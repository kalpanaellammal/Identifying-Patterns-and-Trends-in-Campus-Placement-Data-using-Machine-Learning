{
  "nbformat": 4,
  "nbformat_minor": 0,
  "metadata": {
    "colab": {
      "provenance": []
    },
    "kernelspec": {
      "name": "python3",
      "display_name": "Python 3"
    },
    "language_info": {
      "name": "python"
    }
  },
  "cells": [
    {
      "cell_type": "code",
      "source": [
        "#TASK 2 [DATA COLLECTION & PREPARATION]"
      ],
      "metadata": {
        "id": "9plAB7c3Zfal"
      },
      "execution_count": 1,
      "outputs": []
    },
    {
      "cell_type": "code",
      "execution_count": 2,
      "metadata": {
        "id": "B9W3z51ZHvrU"
      },
      "outputs": [],
      "source": [
        "#importing the libraries\n",
        "\n",
        "import numpy as np\n",
        "import pandas as pd\n",
        "import os\n",
        "import seaborn as sns\n",
        "import matplotlib.pyplot as plt\n",
        "import warnings\n",
        "warnings.filterwarnings('ignore')\n",
        "from sklearn import svm\n",
        "from sklearn.svm import SVC\n",
        "from sklearn.metrics import accuracy_score\n",
        "from sklearn.neighbors import KNeighborsClassifier\n",
        "from sklearn import metrics\n",
        "from sklearn.model_selection import cross_val_score\n",
        "from sklearn import preprocessing\n",
        "from sklearn.model_selection import train_test_split\n",
        "from sklearn.preprocessing import StandardScaler\n",
        "import joblib\n",
        "from sklearn.metrics import accuracy_score "
      ]
    },
    {
      "cell_type": "code",
      "source": [
        "#Read the Dataset\n",
        "df = pd.read_csv(r\"/content/collegePlace.csv\")\n",
        "df.head()"
      ],
      "metadata": {
        "colab": {
          "base_uri": "https://localhost:8080/",
          "height": 215
        },
        "id": "8dnk5k-PIwC6",
        "outputId": "cc97db4b-cb1c-4195-d761-d022a2a93c40"
      },
      "execution_count": 3,
      "outputs": [
        {
          "output_type": "execute_result",
          "data": {
            "text/plain": [
              "   Age  Gender                         Stream  Internships  CGPA  Hostel  \\\n",
              "0   22    Male  Electronics And Communication            1     8       1   \n",
              "1   21  Female               Computer Science            0     7       1   \n",
              "2   22  Female         Information Technology            1     6       0   \n",
              "3   21    Male         Information Technology            0     8       0   \n",
              "4   22    Male                     Mechanical            0     8       1   \n",
              "\n",
              "   HistoryOfBacklogs  PlacedOrNot  \n",
              "0                  1            1  \n",
              "1                  1            1  \n",
              "2                  0            1  \n",
              "3                  1            1  \n",
              "4                  0            1  "
            ],
            "text/html": [
              "\n",
              "  <div id=\"df-6b5327e2-5879-45be-b73a-1e6cd8dfdfdf\">\n",
              "    <div class=\"colab-df-container\">\n",
              "      <div>\n",
              "<style scoped>\n",
              "    .dataframe tbody tr th:only-of-type {\n",
              "        vertical-align: middle;\n",
              "    }\n",
              "\n",
              "    .dataframe tbody tr th {\n",
              "        vertical-align: top;\n",
              "    }\n",
              "\n",
              "    .dataframe thead th {\n",
              "        text-align: right;\n",
              "    }\n",
              "</style>\n",
              "<table border=\"1\" class=\"dataframe\">\n",
              "  <thead>\n",
              "    <tr style=\"text-align: right;\">\n",
              "      <th></th>\n",
              "      <th>Age</th>\n",
              "      <th>Gender</th>\n",
              "      <th>Stream</th>\n",
              "      <th>Internships</th>\n",
              "      <th>CGPA</th>\n",
              "      <th>Hostel</th>\n",
              "      <th>HistoryOfBacklogs</th>\n",
              "      <th>PlacedOrNot</th>\n",
              "    </tr>\n",
              "  </thead>\n",
              "  <tbody>\n",
              "    <tr>\n",
              "      <th>0</th>\n",
              "      <td>22</td>\n",
              "      <td>Male</td>\n",
              "      <td>Electronics And Communication</td>\n",
              "      <td>1</td>\n",
              "      <td>8</td>\n",
              "      <td>1</td>\n",
              "      <td>1</td>\n",
              "      <td>1</td>\n",
              "    </tr>\n",
              "    <tr>\n",
              "      <th>1</th>\n",
              "      <td>21</td>\n",
              "      <td>Female</td>\n",
              "      <td>Computer Science</td>\n",
              "      <td>0</td>\n",
              "      <td>7</td>\n",
              "      <td>1</td>\n",
              "      <td>1</td>\n",
              "      <td>1</td>\n",
              "    </tr>\n",
              "    <tr>\n",
              "      <th>2</th>\n",
              "      <td>22</td>\n",
              "      <td>Female</td>\n",
              "      <td>Information Technology</td>\n",
              "      <td>1</td>\n",
              "      <td>6</td>\n",
              "      <td>0</td>\n",
              "      <td>0</td>\n",
              "      <td>1</td>\n",
              "    </tr>\n",
              "    <tr>\n",
              "      <th>3</th>\n",
              "      <td>21</td>\n",
              "      <td>Male</td>\n",
              "      <td>Information Technology</td>\n",
              "      <td>0</td>\n",
              "      <td>8</td>\n",
              "      <td>0</td>\n",
              "      <td>1</td>\n",
              "      <td>1</td>\n",
              "    </tr>\n",
              "    <tr>\n",
              "      <th>4</th>\n",
              "      <td>22</td>\n",
              "      <td>Male</td>\n",
              "      <td>Mechanical</td>\n",
              "      <td>0</td>\n",
              "      <td>8</td>\n",
              "      <td>1</td>\n",
              "      <td>0</td>\n",
              "      <td>1</td>\n",
              "    </tr>\n",
              "  </tbody>\n",
              "</table>\n",
              "</div>\n",
              "      <button class=\"colab-df-convert\" onclick=\"convertToInteractive('df-6b5327e2-5879-45be-b73a-1e6cd8dfdfdf')\"\n",
              "              title=\"Convert this dataframe to an interactive table.\"\n",
              "              style=\"display:none;\">\n",
              "        \n",
              "  <svg xmlns=\"http://www.w3.org/2000/svg\" height=\"24px\"viewBox=\"0 0 24 24\"\n",
              "       width=\"24px\">\n",
              "    <path d=\"M0 0h24v24H0V0z\" fill=\"none\"/>\n",
              "    <path d=\"M18.56 5.44l.94 2.06.94-2.06 2.06-.94-2.06-.94-.94-2.06-.94 2.06-2.06.94zm-11 1L8.5 8.5l.94-2.06 2.06-.94-2.06-.94L8.5 2.5l-.94 2.06-2.06.94zm10 10l.94 2.06.94-2.06 2.06-.94-2.06-.94-.94-2.06-.94 2.06-2.06.94z\"/><path d=\"M17.41 7.96l-1.37-1.37c-.4-.4-.92-.59-1.43-.59-.52 0-1.04.2-1.43.59L10.3 9.45l-7.72 7.72c-.78.78-.78 2.05 0 2.83L4 21.41c.39.39.9.59 1.41.59.51 0 1.02-.2 1.41-.59l7.78-7.78 2.81-2.81c.8-.78.8-2.07 0-2.86zM5.41 20L4 18.59l7.72-7.72 1.47 1.35L5.41 20z\"/>\n",
              "  </svg>\n",
              "      </button>\n",
              "      \n",
              "  <style>\n",
              "    .colab-df-container {\n",
              "      display:flex;\n",
              "      flex-wrap:wrap;\n",
              "      gap: 12px;\n",
              "    }\n",
              "\n",
              "    .colab-df-convert {\n",
              "      background-color: #E8F0FE;\n",
              "      border: none;\n",
              "      border-radius: 50%;\n",
              "      cursor: pointer;\n",
              "      display: none;\n",
              "      fill: #1967D2;\n",
              "      height: 32px;\n",
              "      padding: 0 0 0 0;\n",
              "      width: 32px;\n",
              "    }\n",
              "\n",
              "    .colab-df-convert:hover {\n",
              "      background-color: #E2EBFA;\n",
              "      box-shadow: 0px 1px 2px rgba(60, 64, 67, 0.3), 0px 1px 3px 1px rgba(60, 64, 67, 0.15);\n",
              "      fill: #174EA6;\n",
              "    }\n",
              "\n",
              "    [theme=dark] .colab-df-convert {\n",
              "      background-color: #3B4455;\n",
              "      fill: #D2E3FC;\n",
              "    }\n",
              "\n",
              "    [theme=dark] .colab-df-convert:hover {\n",
              "      background-color: #434B5C;\n",
              "      box-shadow: 0px 1px 3px 1px rgba(0, 0, 0, 0.15);\n",
              "      filter: drop-shadow(0px 1px 2px rgba(0, 0, 0, 0.3));\n",
              "      fill: #FFFFFF;\n",
              "    }\n",
              "  </style>\n",
              "\n",
              "      <script>\n",
              "        const buttonEl =\n",
              "          document.querySelector('#df-6b5327e2-5879-45be-b73a-1e6cd8dfdfdf button.colab-df-convert');\n",
              "        buttonEl.style.display =\n",
              "          google.colab.kernel.accessAllowed ? 'block' : 'none';\n",
              "\n",
              "        async function convertToInteractive(key) {\n",
              "          const element = document.querySelector('#df-6b5327e2-5879-45be-b73a-1e6cd8dfdfdf');\n",
              "          const dataTable =\n",
              "            await google.colab.kernel.invokeFunction('convertToInteractive',\n",
              "                                                     [key], {});\n",
              "          if (!dataTable) return;\n",
              "\n",
              "          const docLinkHtml = 'Like what you see? Visit the ' +\n",
              "            '<a target=\"_blank\" href=https://colab.research.google.com/notebooks/data_table.ipynb>data table notebook</a>'\n",
              "            + ' to learn more about interactive tables.';\n",
              "          element.innerHTML = '';\n",
              "          dataTable['output_type'] = 'display_data';\n",
              "          await google.colab.output.renderOutput(dataTable, element);\n",
              "          const docLink = document.createElement('div');\n",
              "          docLink.innerHTML = docLinkHtml;\n",
              "          element.appendChild(docLink);\n",
              "        }\n",
              "      </script>\n",
              "    </div>\n",
              "  </div>\n",
              "  "
            ]
          },
          "metadata": {},
          "execution_count": 3
        }
      ]
    },
    {
      "cell_type": "code",
      "source": [
        "#DATA PREPARATION\n",
        "# 1) Handling Missing data \n",
        "df.info()"
      ],
      "metadata": {
        "colab": {
          "base_uri": "https://localhost:8080/"
        },
        "id": "B0WtDa3uJEAR",
        "outputId": "05d16350-232c-48d4-e244-fa44cd4b37b9"
      },
      "execution_count": 4,
      "outputs": [
        {
          "output_type": "stream",
          "name": "stdout",
          "text": [
            "<class 'pandas.core.frame.DataFrame'>\n",
            "RangeIndex: 2966 entries, 0 to 2965\n",
            "Data columns (total 8 columns):\n",
            " #   Column             Non-Null Count  Dtype \n",
            "---  ------             --------------  ----- \n",
            " 0   Age                2966 non-null   int64 \n",
            " 1   Gender             2966 non-null   object\n",
            " 2   Stream             2966 non-null   object\n",
            " 3   Internships        2966 non-null   int64 \n",
            " 4   CGPA               2966 non-null   int64 \n",
            " 5   Hostel             2966 non-null   int64 \n",
            " 6   HistoryOfBacklogs  2966 non-null   int64 \n",
            " 7   PlacedOrNot        2966 non-null   int64 \n",
            "dtypes: int64(6), object(2)\n",
            "memory usage: 185.5+ KB\n"
          ]
        }
      ]
    },
    {
      "cell_type": "code",
      "source": [
        "df.isnull().sum()"
      ],
      "metadata": {
        "colab": {
          "base_uri": "https://localhost:8080/"
        },
        "id": "YHyQKBuJJJz7",
        "outputId": "a48a1a3b-4eeb-4aa8-dfc1-348264dfc81d"
      },
      "execution_count": 5,
      "outputs": [
        {
          "output_type": "execute_result",
          "data": {
            "text/plain": [
              "Age                  0\n",
              "Gender               0\n",
              "Stream               0\n",
              "Internships          0\n",
              "CGPA                 0\n",
              "Hostel               0\n",
              "HistoryOfBacklogs    0\n",
              "PlacedOrNot          0\n",
              "dtype: int64"
            ]
          },
          "metadata": {},
          "execution_count": 5
        }
      ]
    },
    {
      "cell_type": "code",
      "source": [
        "# 2) Handling outliers\n",
        "\n",
        "def transformationplot(feature):\n",
        "  plt.figure(figsize=(12,5))\n",
        "  plt.subplot(1,2,1)\n",
        "  sns.distplot(feature)\n",
        "\n",
        "transformationplot(np.log(df['Age']))"
      ],
      "metadata": {
        "colab": {
          "base_uri": "https://localhost:8080/",
          "height": 465
        },
        "id": "JamX2PPrJTGt",
        "outputId": "9d678343-818f-4a94-af77-80dcb9cb685c"
      },
      "execution_count": 6,
      "outputs": [
        {
          "output_type": "display_data",
          "data": {
            "text/plain": [
              "<Figure size 1200x500 with 1 Axes>"
            ],
            "image/png": "[encoded data removed]"
          },
          "metadata": {}
        }
      ]
    },
    {
      "cell_type": "code",
      "source": [
        "# Handling Categorical Values\n",
        "\n",
        "df = df.replace(['Male'],[0])\n",
        "df = df.replace(['Female'],[1])\n",
        "df = df.replace(['Computer Science','Information Technology','Electronics And Communication','Mechanical','Electrical','Civil'],[0,1,2,3,4,5])"
      ],
      "metadata": {
        "id": "Eki1C2SRJ3_l"
      },
      "execution_count": 7,
      "outputs": []
    },
    {
      "cell_type": "code",
      "source": [
        "df = df.drop(['Hostel'], axis=1)\n",
        "df"
      ],
      "metadata": {
        "colab": {
          "base_uri": "https://localhost:8080/",
          "height": 655
        },
        "id": "r2hYMzhGKvt8",
        "outputId": "d64fa955-a4f3-4dd4-e77d-faadf21ad71d"
      },
      "execution_count": 8,
      "outputs": [
        {
          "output_type": "execute_result",
          "data": {
            "text/plain": [
              "      Age  Gender  Stream  Internships  CGPA  HistoryOfBacklogs  PlacedOrNot\n",
              "0      22       0       2            1     8                  1            1\n",
              "1      21       1       0            0     7                  1            1\n",
              "2      22       1       1            1     6                  0            1\n",
              "3      21       0       1            0     8                  1            1\n",
              "4      22       0       3            0     8                  0            1\n",
              "...   ...     ...     ...          ...   ...                ...          ...\n",
              "2961   23       0       1            0     7                  0            0\n",
              "2962   23       0       3            1     7                  0            0\n",
              "2963   22       0       1            1     7                  0            0\n",
              "2964   22       0       0            1     7                  0            0\n",
              "2965   23       0       5            0     8                  0            1\n",
              "\n",
              "[2966 rows x 7 columns]"
            ],
            "text/html": [
              "\n",
              "  <div id=\"df-09cb8ba8-3c3c-4edf-8c01-f3bc6ae7913b\">\n",
              "    <div class=\"colab-df-container\">\n",
              "      <div>\n",
              "<style scoped>\n",
              "    .dataframe tbody tr th:only-of-type {\n",
              "        vertical-align: middle;\n",
              "    }\n",
              "\n",
              "    .dataframe tbody tr th {\n",
              "        vertical-align: top;\n",
              "    }\n",
              "\n",
              "    .dataframe thead th {\n",
              "        text-align: right;\n",
              "    }\n",
              "</style>\n",
              "<table border=\"1\" class=\"dataframe\">\n",
              "  <thead>\n",
              "    <tr style=\"text-align: right;\">\n",
              "      <th></th>\n",
              "      <th>Age</th>\n",
              "      <th>Gender</th>\n",
              "      <th>Stream</th>\n",
              "      <th>Internships</th>\n",
              "      <th>CGPA</th>\n",
              "      <th>HistoryOfBacklogs</th>\n",
              "      <th>PlacedOrNot</th>\n",
              "    </tr>\n",
              "  </thead>\n",
              "  <tbody>\n",
              "    <tr>\n",
              "      <th>0</th>\n",
              "      <td>22</td>\n",
              "      <td>0</td>\n",
              "      <td>2</td>\n",
              "      <td>1</td>\n",
              "      <td>8</td>\n",
              "      <td>1</td>\n",
              "      <td>1</td>\n",
              "    </tr>\n",
              "    <tr>\n",
              "      <th>1</th>\n",
              "      <td>21</td>\n",
              "      <td>1</td>\n",
              "      <td>0</td>\n",
              "      <td>0</td>\n",
              "      <td>7</td>\n",
              "      <td>1</td>\n",
              "      <td>1</td>\n",
              "    </tr>\n",
              "    <tr>\n",
              "      <th>2</th>\n",
              "      <td>22</td>\n",
              "      <td>1</td>\n",
              "      <td>1</td>\n",
              "      <td>1</td>\n",
              "      <td>6</td>\n",
              "      <td>0</td>\n",
              "      <td>1</td>\n",
              "    </tr>\n",
              "    <tr>\n",
              "      <th>3</th>\n",
              "      <td>21</td>\n",
              "      <td>0</td>\n",
              "      <td>1</td>\n",
              "      <td>0</td>\n",
              "      <td>8</td>\n",
              "      <td>1</td>\n",
              "      <td>1</td>\n",
              "    </tr>\n",
              "    <tr>\n",
              "      <th>4</th>\n",
              "      <td>22</td>\n",
              "      <td>0</td>\n",
              "      <td>3</td>\n",
              "      <td>0</td>\n",
              "      <td>8</td>\n",
              "      <td>0</td>\n",
              "      <td>1</td>\n",
              "    </tr>\n",
              "    <tr>\n",
              "      <th>...</th>\n",
              "      <td>...</td>\n",
              "      <td>...</td>\n",
              "      <td>...</td>\n",
              "      <td>...</td>\n",
              "      <td>...</td>\n",
              "      <td>...</td>\n",
              "      <td>...</td>\n",
              "    </tr>\n",
              "    <tr>\n",
              "      <th>2961</th>\n",
              "      <td>23</td>\n",
              "      <td>0</td>\n",
              "      <td>1</td>\n",
              "      <td>0</td>\n",
              "      <td>7</td>\n",
              "      <td>0</td>\n",
              "      <td>0</td>\n",
              "    </tr>\n",
              "    <tr>\n",
              "      <th>2962</th>\n",
              "      <td>23</td>\n",
              "      <td>0</td>\n",
              "      <td>3</td>\n",
              "      <td>1</td>\n",
              "      <td>7</td>\n",
              "      <td>0</td>\n",
              "      <td>0</td>\n",
              "    </tr>\n",
              "    <tr>\n",
              "      <th>2963</th>\n",
              "      <td>22</td>\n",
              "      <td>0</td>\n",
              "      <td>1</td>\n",
              "      <td>1</td>\n",
              "      <td>7</td>\n",
              "      <td>0</td>\n",
              "      <td>0</td>\n",
              "    </tr>\n",
              "    <tr>\n",
              "      <th>2964</th>\n",
              "      <td>22</td>\n",
              "      <td>0</td>\n",
              "      <td>0</td>\n",
              "      <td>1</td>\n",
              "      <td>7</td>\n",
              "      <td>0</td>\n",
              "      <td>0</td>\n",
              "    </tr>\n",
              "    <tr>\n",
              "      <th>2965</th>\n",
              "      <td>23</td>\n",
              "      <td>0</td>\n",
              "      <td>5</td>\n",
              "      <td>0</td>\n",
              "      <td>8</td>\n",
              "      <td>0</td>\n",
              "      <td>1</td>\n",
              "    </tr>\n",
              "  </tbody>\n",
              "</table>\n",
              "<p>2966 rows × 7 columns</p>\n",
              "</div>\n",
              "      <button class=\"colab-df-convert\" onclick=\"convertToInteractive('df-09cb8ba8-3c3c-4edf-8c01-f3bc6ae7913b')\"\n",
              "              title=\"Convert this dataframe to an interactive table.\"\n",
              "              style=\"display:none;\">\n",
              "        \n",
              "  <svg xmlns=\"http://www.w3.org/2000/svg\" height=\"24px\"viewBox=\"0 0 24 24\"\n",
              "       width=\"24px\">\n",
              "    <path d=\"M0 0h24v24H0V0z\" fill=\"none\"/>\n",
              "    <path d=\"M18.56 5.44l.94 2.06.94-2.06 2.06-.94-2.06-.94-.94-2.06-.94 2.06-2.06.94zm-11 1L8.5 8.5l.94-2.06 2.06-.94-2.06-.94L8.5 2.5l-.94 2.06-2.06.94zm10 10l.94 2.06.94-2.06 2.06-.94-2.06-.94-.94-2.06-.94 2.06-2.06.94z\"/><path d=\"M17.41 7.96l-1.37-1.37c-.4-.4-.92-.59-1.43-.59-.52 0-1.04.2-1.43.59L10.3 9.45l-7.72 7.72c-.78.78-.78 2.05 0 2.83L4 21.41c.39.39.9.59 1.41.59.51 0 1.02-.2 1.41-.59l7.78-7.78 2.81-2.81c.8-.78.8-2.07 0-2.86zM5.41 20L4 18.59l7.72-7.72 1.47 1.35L5.41 20z\"/>\n",
              "  </svg>\n",
              "      </button>\n",
              "      \n",
              "  <style>\n",
              "    .colab-df-container {\n",
              "      display:flex;\n",
              "      flex-wrap:wrap;\n",
              "      gap: 12px;\n",
              "    }\n",
              "\n",
              "    .colab-df-convert {\n",
              "      background-color: #E8F0FE;\n",
              "      border: none;\n",
              "      border-radius: 50%;\n",
              "      cursor: pointer;\n",
              "      display: none;\n",
              "      fill: #1967D2;\n",
              "      height: 32px;\n",
              "      padding: 0 0 0 0;\n",
              "      width: 32px;\n",
              "    }\n",
              "\n",
              "    .colab-df-convert:hover {\n",
              "      background-color: #E2EBFA;\n",
              "      box-shadow: 0px 1px 2px rgba(60, 64, 67, 0.3), 0px 1px 3px 1px rgba(60, 64, 67, 0.15);\n",
              "      fill: #174EA6;\n",
              "    }\n",
              "\n",
              "    [theme=dark] .colab-df-convert {\n",
              "      background-color: #3B4455;\n",
              "      fill: #D2E3FC;\n",
              "    }\n",
              "\n",
              "    [theme=dark] .colab-df-convert:hover {\n",
              "      background-color: #434B5C;\n",
              "      box-shadow: 0px 1px 3px 1px rgba(0, 0, 0, 0.15);\n",
              "      filter: drop-shadow(0px 1px 2px rgba(0, 0, 0, 0.3));\n",
              "      fill: #FFFFFF;\n",
              "    }\n",
              "  </style>\n",
              "\n",
              "      <script>\n",
              "        const buttonEl =\n",
              "          document.querySelector('#df-09cb8ba8-3c3c-4edf-8c01-f3bc6ae7913b button.colab-df-convert');\n",
              "        buttonEl.style.display =\n",
              "          google.colab.kernel.accessAllowed ? 'block' : 'none';\n",
              "\n",
              "        async function convertToInteractive(key) {\n",
              "          const element = document.querySelector('#df-09cb8ba8-3c3c-4edf-8c01-f3bc6ae7913b');\n",
              "          const dataTable =\n",
              "            await google.colab.kernel.invokeFunction('convertToInteractive',\n",
              "                                                     [key], {});\n",
              "          if (!dataTable) return;\n",
              "\n",
              "          const docLinkHtml = 'Like what you see? Visit the ' +\n",
              "            '<a target=\"_blank\" href=https://colab.research.google.com/notebooks/data_table.ipynb>data table notebook</a>'\n",
              "            + ' to learn more about interactive tables.';\n",
              "          element.innerHTML = '';\n",
              "          dataTable['output_type'] = 'display_data';\n",
              "          await google.colab.output.renderOutput(dataTable, element);\n",
              "          const docLink = document.createElement('div');\n",
              "          docLink.innerHTML = docLinkHtml;\n",
              "          element.appendChild(docLink);\n",
              "        }\n",
              "      </script>\n",
              "    </div>\n",
              "  </div>\n",
              "  "
            ]
          },
          "metadata": {},
          "execution_count": 8
        }
      ]
    },
    {
      "cell_type": "code",
      "source": [
        "#TASK 3 [EXPLORATORY DATA ANALYSIS]\n",
        "# Visual analysis"
      ],
      "metadata": {
        "id": "UEiZwAC4hsS4"
      },
      "execution_count": 9,
      "outputs": []
    },
    {
      "cell_type": "code",
      "source": [
        "#Univariate analysis\n",
        "\n",
        "plt.figure(figsize=(12,5))\n",
        "plt.subplot(121)\n",
        "sns.distplot(df['CGPA'],color='r')"
      ],
      "metadata": {
        "colab": {
          "base_uri": "https://localhost:8080/",
          "height": 482
        },
        "id": "aGd6HFWWK-Rg",
        "outputId": "b9a88cb0-9719-41c0-d800-5210007d9850"
      },
      "execution_count": 10,
      "outputs": [
        {
          "output_type": "execute_result",
          "data": {
            "text/plain": [
              "<Axes: xlabel='CGPA', ylabel='Density'>"
            ]
          },
          "metadata": {},
          "execution_count": 10
        },
        {
          "output_type": "display_data",
          "data": {
            "text/plain": [
              "<Figure size 1200x500 with 1 Axes>"
            ],
            "image/png": "[encoded data removed]"
          },
          "metadata": {}
        }
      ]
    },
    {
      "cell_type": "code",
      "source": [
        "plt.figure(figsize=(12,5))\n",
        "plt.subplot(121)\n",
        "sns.distplot(df['PlacedOrNot'],color='r')"
      ],
      "metadata": {
        "colab": {
          "base_uri": "https://localhost:8080/",
          "height": 482
        },
        "id": "xtx4_AVPLf4u",
        "outputId": "aba92795-544c-4c1b-905d-a28ae244b9f7"
      },
      "execution_count": 11,
      "outputs": [
        {
          "output_type": "execute_result",
          "data": {
            "text/plain": [
              "<Axes: xlabel='PlacedOrNot', ylabel='Density'>"
            ]
          },
          "metadata": {},
          "execution_count": 11
        },
        {
          "output_type": "display_data",
          "data": {
            "text/plain": [
              "<Figure size 1200x500 with 1 Axes>"
            ],
            "image/png": "[encoded data removed]"
          },
          "metadata": {}
        }
      ]
    },
    {
      "cell_type": "code",
      "source": [
        "#Bivariate analysis\n",
        "\n",
        "plt.figure(figsize=(18,4))\n",
        "plt.subplot(1,4,1)\n",
        "sns.countplot(data=df,x=df['Gender'])\n",
        "plt.subplot(1,4,2)\n",
        "sns.countplot(data=df,x=df['PlacedOrNot'])\n",
        "plt.show()\n"
      ],
      "metadata": {
        "colab": {
          "base_uri": "https://localhost:8080/",
          "height": 388
        },
        "id": "NZvbur5dVGMR",
        "outputId": "401b63e9-e767-4454-f812-977461a2b74a"
      },
      "execution_count": 12,
      "outputs": [
        {
          "output_type": "display_data",
          "data": {
            "text/plain": [
              "<Figure size 1800x400 with 2 Axes>"
            ],
            "image/png": "[encoded data removed]"
          },
          "metadata": {}
        }
      ]
    },
    {
      "cell_type": "code",
      "source": [
        "#Multivariate analysis\n",
        "\n",
        "plt.figure(figsize=(20,5))\n",
        "plt.subplot(131)\n",
        "sns.countplot(data=df,x=df[\"PlacedOrNot\"],hue=df['CGPA'])"
      ],
      "metadata": {
        "colab": {
          "base_uri": "https://localhost:8080/",
          "height": 482
        },
        "id": "Ky3JcuSdF9Vn",
        "outputId": "3efe6abb-386f-41e4-c09c-7e0de9d753ee"
      },
      "execution_count": 13,
      "outputs": [
        {
          "output_type": "execute_result",
          "data": {
            "text/plain": [
              "<Axes: xlabel='PlacedOrNot', ylabel='count'>"
            ]
          },
          "metadata": {},
          "execution_count": 13
        },
        {
          "output_type": "display_data",
          "data": {
            "text/plain": [
              "<Figure size 2000x500 with 1 Axes>"
            ],
            "image/png": "[encoded data removed]"
          },
          "metadata": {}
        }
      ]
    },
    {
      "cell_type": "code",
      "source": [
        "df"
      ],
      "metadata": {
        "colab": {
          "base_uri": "https://localhost:8080/",
          "height": 424
        },
        "id": "Hub7FIfGz03h",
        "outputId": "7ab2d46d-a525-4a57-c706-420884a78bc5"
      },
      "execution_count": 144,
      "outputs": [
        {
          "output_type": "execute_result",
          "data": {
            "text/plain": [
              "      Age  Gender  Stream  Internships  CGPA  HistoryOfBacklogs  PlacedOrNot\n",
              "0      22       0       2            1     8                  1            1\n",
              "1      21       1       0            0     7                  1            1\n",
              "2      22       1       1            1     6                  0            1\n",
              "3      21       0       1            0     8                  1            1\n",
              "4      22       0       3            0     8                  0            1\n",
              "...   ...     ...     ...          ...   ...                ...          ...\n",
              "2961   23       0       1            0     7                  0            0\n",
              "2962   23       0       3            1     7                  0            0\n",
              "2963   22       0       1            1     7                  0            0\n",
              "2964   22       0       0            1     7                  0            0\n",
              "2965   23       0       5            0     8                  0            1\n",
              "\n",
              "[2966 rows x 7 columns]"
            ],
            "text/html": [
              "\n",
              "  <div id=\"df-d8cb4b1e-13a4-408d-9913-3d73fff9057e\">\n",
              "    <div class=\"colab-df-container\">\n",
              "      <div>\n",
              "<style scoped>\n",
              "    .dataframe tbody tr th:only-of-type {\n",
              "        vertical-align: middle;\n",
              "    }\n",
              "\n",
              "    .dataframe tbody tr th {\n",
              "        vertical-align: top;\n",
              "    }\n",
              "\n",
              "    .dataframe thead th {\n",
              "        text-align: right;\n",
              "    }\n",
              "</style>\n",
              "<table border=\"1\" class=\"dataframe\">\n",
              "  <thead>\n",
              "    <tr style=\"text-align: right;\">\n",
              "      <th></th>\n",
              "      <th>Age</th>\n",
              "      <th>Gender</th>\n",
              "      <th>Stream</th>\n",
              "      <th>Internships</th>\n",
              "      <th>CGPA</th>\n",
              "      <th>HistoryOfBacklogs</th>\n",
              "      <th>PlacedOrNot</th>\n",
              "    </tr>\n",
              "  </thead>\n",
              "  <tbody>\n",
              "    <tr>\n",
              "      <th>0</th>\n",
              "      <td>22</td>\n",
              "      <td>0</td>\n",
              "      <td>2</td>\n",
              "      <td>1</td>\n",
              "      <td>8</td>\n",
              "      <td>1</td>\n",
              "      <td>1</td>\n",
              "    </tr>\n",
              "    <tr>\n",
              "      <th>1</th>\n",
              "      <td>21</td>\n",
              "      <td>1</td>\n",
              "      <td>0</td>\n",
              "      <td>0</td>\n",
              "      <td>7</td>\n",
              "      <td>1</td>\n",
              "      <td>1</td>\n",
              "    </tr>\n",
              "    <tr>\n",
              "      <th>2</th>\n",
              "      <td>22</td>\n",
              "      <td>1</td>\n",
              "      <td>1</td>\n",
              "      <td>1</td>\n",
              "      <td>6</td>\n",
              "      <td>0</td>\n",
              "      <td>1</td>\n",
              "    </tr>\n",
              "    <tr>\n",
              "      <th>3</th>\n",
              "      <td>21</td>\n",
              "      <td>0</td>\n",
              "      <td>1</td>\n",
              "      <td>0</td>\n",
              "      <td>8</td>\n",
              "      <td>1</td>\n",
              "      <td>1</td>\n",
              "    </tr>\n",
              "    <tr>\n",
              "      <th>4</th>\n",
              "      <td>22</td>\n",
              "      <td>0</td>\n",
              "      <td>3</td>\n",
              "      <td>0</td>\n",
              "      <td>8</td>\n",
              "      <td>0</td>\n",
              "      <td>1</td>\n",
              "    </tr>\n",
              "    <tr>\n",
              "      <th>...</th>\n",
              "      <td>...</td>\n",
              "      <td>...</td>\n",
              "      <td>...</td>\n",
              "      <td>...</td>\n",
              "      <td>...</td>\n",
              "      <td>...</td>\n",
              "      <td>...</td>\n",
              "    </tr>\n",
              "    <tr>\n",
              "      <th>2961</th>\n",
              "      <td>23</td>\n",
              "      <td>0</td>\n",
              "      <td>1</td>\n",
              "      <td>0</td>\n",
              "      <td>7</td>\n",
              "      <td>0</td>\n",
              "      <td>0</td>\n",
              "    </tr>\n",
              "    <tr>\n",
              "      <th>2962</th>\n",
              "      <td>23</td>\n",
              "      <td>0</td>\n",
              "      <td>3</td>\n",
              "      <td>1</td>\n",
              "      <td>7</td>\n",
              "      <td>0</td>\n",
              "      <td>0</td>\n",
              "    </tr>\n",
              "    <tr>\n",
              "      <th>2963</th>\n",
              "      <td>22</td>\n",
              "      <td>0</td>\n",
              "      <td>1</td>\n",
              "      <td>1</td>\n",
              "      <td>7</td>\n",
              "      <td>0</td>\n",
              "      <td>0</td>\n",
              "    </tr>\n",
              "    <tr>\n",
              "      <th>2964</th>\n",
              "      <td>22</td>\n",
              "      <td>0</td>\n",
              "      <td>0</td>\n",
              "      <td>1</td>\n",
              "      <td>7</td>\n",
              "      <td>0</td>\n",
              "      <td>0</td>\n",
              "    </tr>\n",
              "    <tr>\n",
              "      <th>2965</th>\n",
              "      <td>23</td>\n",
              "      <td>0</td>\n",
              "      <td>5</td>\n",
              "      <td>0</td>\n",
              "      <td>8</td>\n",
              "      <td>0</td>\n",
              "      <td>1</td>\n",
              "    </tr>\n",
              "  </tbody>\n",
              "</table>\n",
              "<p>2966 rows × 7 columns</p>\n",
              "</div>\n",
              "      <button class=\"colab-df-convert\" onclick=\"convertToInteractive('df-d8cb4b1e-13a4-408d-9913-3d73fff9057e')\"\n",
              "              title=\"Convert this dataframe to an interactive table.\"\n",
              "              style=\"display:none;\">\n",
              "        \n",
              "  <svg xmlns=\"http://www.w3.org/2000/svg\" height=\"24px\"viewBox=\"0 0 24 24\"\n",
              "       width=\"24px\">\n",
              "    <path d=\"M0 0h24v24H0V0z\" fill=\"none\"/>\n",
              "    <path d=\"M18.56 5.44l.94 2.06.94-2.06 2.06-.94-2.06-.94-.94-2.06-.94 2.06-2.06.94zm-11 1L8.5 8.5l.94-2.06 2.06-.94-2.06-.94L8.5 2.5l-.94 2.06-2.06.94zm10 10l.94 2.06.94-2.06 2.06-.94-2.06-.94-.94-2.06-.94 2.06-2.06.94z\"/><path d=\"M17.41 7.96l-1.37-1.37c-.4-.4-.92-.59-1.43-.59-.52 0-1.04.2-1.43.59L10.3 9.45l-7.72 7.72c-.78.78-.78 2.05 0 2.83L4 21.41c.39.39.9.59 1.41.59.51 0 1.02-.2 1.41-.59l7.78-7.78 2.81-2.81c.8-.78.8-2.07 0-2.86zM5.41 20L4 18.59l7.72-7.72 1.47 1.35L5.41 20z\"/>\n",
              "  </svg>\n",
              "      </button>\n",
              "      \n",
              "  <style>\n",
              "    .colab-df-container {\n",
              "      display:flex;\n",
              "      flex-wrap:wrap;\n",
              "      gap: 12px;\n",
              "    }\n",
              "\n",
              "    .colab-df-convert {\n",
              "      background-color: #E8F0FE;\n",
              "      border: none;\n",
              "      border-radius: 50%;\n",
              "      cursor: pointer;\n",
              "      display: none;\n",
              "      fill: #1967D2;\n",
              "      height: 32px;\n",
              "      padding: 0 0 0 0;\n",
              "      width: 32px;\n",
              "    }\n",
              "\n",
              "    .colab-df-convert:hover {\n",
              "      background-color: #E2EBFA;\n",
              "      box-shadow: 0px 1px 2px rgba(60, 64, 67, 0.3), 0px 1px 3px 1px rgba(60, 64, 67, 0.15);\n",
              "      fill: #174EA6;\n",
              "    }\n",
              "\n",
              "    [theme=dark] .colab-df-convert {\n",
              "      background-color: #3B4455;\n",
              "      fill: #D2E3FC;\n",
              "    }\n",
              "\n",
              "    [theme=dark] .colab-df-convert:hover {\n",
              "      background-color: #434B5C;\n",
              "      box-shadow: 0px 1px 3px 1px rgba(0, 0, 0, 0.15);\n",
              "      filter: drop-shadow(0px 1px 2px rgba(0, 0, 0, 0.3));\n",
              "      fill: #FFFFFF;\n",
              "    }\n",
              "  </style>\n",
              "\n",
              "      <script>\n",
              "        const buttonEl =\n",
              "          document.querySelector('#df-d8cb4b1e-13a4-408d-9913-3d73fff9057e button.colab-df-convert');\n",
              "        buttonEl.style.display =\n",
              "          google.colab.kernel.accessAllowed ? 'block' : 'none';\n",
              "\n",
              "        async function convertToInteractive(key) {\n",
              "          const element = document.querySelector('#df-d8cb4b1e-13a4-408d-9913-3d73fff9057e');\n",
              "          const dataTable =\n",
              "            await google.colab.kernel.invokeFunction('convertToInteractive',\n",
              "                                                     [key], {});\n",
              "          if (!dataTable) return;\n",
              "\n",
              "          const docLinkHtml = 'Like what you see? Visit the ' +\n",
              "            '<a target=\"_blank\" href=https://colab.research.google.com/notebooks/data_table.ipynb>data table notebook</a>'\n",
              "            + ' to learn more about interactive tables.';\n",
              "          element.innerHTML = '';\n",
              "          dataTable['output_type'] = 'display_data';\n",
              "          await google.colab.output.renderOutput(dataTable, element);\n",
              "          const docLink = document.createElement('div');\n",
              "          docLink.innerHTML = docLinkHtml;\n",
              "          element.appendChild(docLink);\n",
              "        }\n",
              "      </script>\n",
              "    </div>\n",
              "  </div>\n",
              "  "
            ]
          },
          "metadata": {},
          "execution_count": 144
        }
      ]
    },
    {
      "cell_type": "code",
      "source": [
        "X = df.drop(columns='PlacedOrNot')\n",
        "y = df['PlacedOrNot'].values"
      ],
      "metadata": {
        "id": "WNkZRblkpSba"
      },
      "execution_count": 200,
      "outputs": []
    },
    {
      "cell_type": "code",
      "source": [
        "X_train, X_test, Y_train, Y_test = train_test_split(X,y, test_size = 0.2, stratify=y, random_state=2)"
      ],
      "metadata": {
        "id": "M5CROwQMnp1X"
      },
      "execution_count": 201,
      "outputs": []
    },
    {
      "cell_type": "code",
      "source": [
        "#TASK 4 [MODEL BUILDING]\n",
        "#Training the model in multiple algorithms"
      ],
      "metadata": {
        "id": "Sw8JtEX9jdOm"
      },
      "execution_count": 202,
      "outputs": []
    },
    {
      "cell_type": "code",
      "source": [
        "#SVM Model\n",
        "classifier = svm.SVC(kernel='linear')\n",
        "classifier.fit(X_train,Y_train)\n",
        "SVC(kernel='linear')\n",
        "X_train_prediction=classifier.predict(X_train)\n",
        "training_data_accuracy=accuracy_score(X_train_prediction,Y_train)\n",
        "print('Accuracy score of the training data:',training_data_accuracy)"
      ],
      "metadata": {
        "colab": {
          "base_uri": "https://localhost:8080/"
        },
        "id": "-ncBNSrMxt4Y",
        "outputId": "e14e5583-0629-48f6-ac75-c1149482b356"
      },
      "execution_count": 203,
      "outputs": [
        {
          "output_type": "stream",
          "name": "stdout",
          "text": [
            "Accuracy score of the training data: 0.7685497470489039\n"
          ]
        }
      ]
    },
    {
      "cell_type": "code",
      "source": [
        "#KNN Model\n",
        "best_k = {\"Regular\":0}\n",
        "best_score = {\"Regular\":0}\n",
        "for k in range(3,50,2):\n",
        "  knn_temp = KNeighborsClassifier(n_neighbors=k)\n",
        "  knn_temp.fit(X_train, Y_train)\n",
        "  knn_temp_pred = knn_temp.predict(X_test)\n",
        "  score = metrics.accuracy_score(Y_test, knn_temp_pred) * 100\n",
        "  if score >= best_score[\"Regular\"] and score < 100:\n",
        "    best_score[\"Regular\"] = score\n",
        "    best_k[\"Regular\"] = k\n",
        "  else:\n",
        "    best_score[\"Regular\"] = score\n",
        "    best_k[\"Regular\"] = k\n",
        "    break\n"
      ],
      "metadata": {
        "id": "IKY4LyRez1Fq"
      },
      "execution_count": 206,
      "outputs": []
    },
    {
      "cell_type": "code",
      "source": [
        "print(\"---Results---\\nK: {}\\nScore: {}\".format(best_k, best_score))\n",
        "\n",
        "knn = KNeighborsClassifier(n_neighbors=best_k[\"Regular\"])\n",
        "\n",
        "knn.fit(X_train, Y_train)\n",
        "knn_pred = knn.predict(X_test)\n",
        "testd = accuracy_score(knn_pred,Y_test)\n",
        "print(testd)"
      ],
      "metadata": {
        "colab": {
          "base_uri": "https://localhost:8080/"
        },
        "id": "o7uQ4rf0sw2T",
        "outputId": "49aa7c59-b4ec-4660-b92f-bdbae823ab88"
      },
      "execution_count": 207,
      "outputs": [
        {
          "output_type": "stream",
          "name": "stdout",
          "text": [
            "---Results---\n",
            "K: {'Regular': 7}\n",
            "Score: {'Regular': 87.20538720538721}\n",
            "0.8720538720538721\n"
          ]
        }
      ]
    },
    {
      "cell_type": "code",
      "source": [
        "#Artificial neural network model\n",
        "\n",
        "import tensorflow as tf\n",
        "from tensorflow import keras\n",
        "from keras.models import Sequential\n",
        "from keras.layers import Dense"
      ],
      "metadata": {
        "id": "6lWP9tB7-6xQ"
      },
      "execution_count": 208,
      "outputs": []
    },
    {
      "cell_type": "code",
      "source": [
        "classifier = Sequential()\n",
        "\n",
        "classifier.add(keras.layers.Dense(6,activation = 'relu'))\n",
        "classifier.add(keras.layers.Dropout(0.50))\n",
        "\n",
        "classifier.add(keras.layers.Dense(6,activation = 'relu'))\n",
        "classifier.add(keras.layers.Dropout(0.50))\n",
        "\n",
        "classifier.add(keras.layers.Dense(1,activation = 'sigmoid'))"
      ],
      "metadata": {
        "id": "n_-tIoEV_gar"
      },
      "execution_count": 209,
      "outputs": []
    },
    {
      "cell_type": "code",
      "source": [
        "loss_1 = tf.keras.losses.BinaryCrossentropy()\n",
        "\n",
        "classifier.compile(optimizer = 'Adam', loss=loss_1, metrics=['accuracy'])"
      ],
      "metadata": {
        "id": "-oPyJbLGAuFx"
      },
      "execution_count": 210,
      "outputs": []
    },
    {
      "cell_type": "code",
      "source": [
        "classifier.fit(X_train, Y_train, batch_size=20, epochs=100)"
      ],
      "metadata": {
        "id": "govPLOwXA0lj",
        "colab": {
          "base_uri": "https://localhost:8080/"
        },
        "outputId": "e4fb6eb0-d13c-4097-8b1c-67d6822c6f50"
      },
      "execution_count": 211,
      "outputs": [
        {
          "output_type": "stream",
          "name": "stdout",
          "text": [
            "Epoch 1/100\n",
            "119/119 [==============================] - 1s 2ms/step - loss: 0.6923 - accuracy: 0.5510\n",
            "Epoch 2/100\n",
            "119/119 [==============================] - 0s 2ms/step - loss: 0.6904 - accuracy: 0.5527\n",
            "Epoch 3/100\n",
            "119/119 [==============================] - 0s 2ms/step - loss: 0.6893 - accuracy: 0.5527\n",
            "Epoch 4/100\n",
            "119/119 [==============================] - 0s 2ms/step - loss: 0.6886 - accuracy: 0.5527\n",
            "Epoch 5/100\n",
            "119/119 [==============================] - 0s 2ms/step - loss: 0.6882 - accuracy: 0.5527\n",
            "Epoch 6/100\n",
            "119/119 [==============================] - 0s 2ms/step - loss: 0.6879 - accuracy: 0.5527\n",
            "Epoch 7/100\n",
            "119/119 [==============================] - 0s 2ms/step - loss: 0.6878 - accuracy: 0.5527\n",
            "Epoch 8/100\n",
            "119/119 [==============================] - 0s 3ms/step - loss: 0.6877 - accuracy: 0.5527\n",
            "Epoch 9/100\n",
            "119/119 [==============================] - 0s 3ms/step - loss: 0.6877 - accuracy: 0.5527\n",
            "Epoch 10/100\n",
            "119/119 [==============================] - 0s 3ms/step - loss: 0.6877 - accuracy: 0.5527\n",
            "Epoch 11/100\n",
            "119/119 [==============================] - 0s 3ms/step - loss: 0.6877 - accuracy: 0.5527\n",
            "Epoch 12/100\n",
            "119/119 [==============================] - 0s 3ms/step - loss: 0.6877 - accuracy: 0.5527\n",
            "Epoch 13/100\n",
            "119/119 [==============================] - 0s 3ms/step - loss: 0.6876 - accuracy: 0.5527\n",
            "Epoch 14/100\n",
            "119/119 [==============================] - 0s 3ms/step - loss: 0.6876 - accuracy: 0.5527\n",
            "Epoch 15/100\n",
            "119/119 [==============================] - 0s 3ms/step - loss: 0.6876 - accuracy: 0.5527\n",
            "Epoch 16/100\n",
            "119/119 [==============================] - 0s 2ms/step - loss: 0.6876 - accuracy: 0.5527\n",
            "Epoch 17/100\n",
            "119/119 [==============================] - 0s 2ms/step - loss: 0.6876 - accuracy: 0.5527\n",
            "Epoch 18/100\n",
            "119/119 [==============================] - 0s 2ms/step - loss: 0.6876 - accuracy: 0.5527\n",
            "Epoch 19/100\n",
            "119/119 [==============================] - 0s 2ms/step - loss: 0.6877 - accuracy: 0.5527\n",
            "Epoch 20/100\n",
            "119/119 [==============================] - 0s 2ms/step - loss: 0.6876 - accuracy: 0.5527\n",
            "Epoch 21/100\n",
            "119/119 [==============================] - 0s 2ms/step - loss: 0.6876 - accuracy: 0.5527\n",
            "Epoch 22/100\n",
            "119/119 [==============================] - 0s 2ms/step - loss: 0.6877 - accuracy: 0.5527\n",
            "Epoch 23/100\n",
            "119/119 [==============================] - 0s 2ms/step - loss: 0.6876 - accuracy: 0.5527\n",
            "Epoch 24/100\n",
            "119/119 [==============================] - 0s 2ms/step - loss: 0.6877 - accuracy: 0.5527\n",
            "Epoch 25/100\n",
            "119/119 [==============================] - 0s 2ms/step - loss: 0.6877 - accuracy: 0.5527\n",
            "Epoch 26/100\n",
            "119/119 [==============================] - 0s 2ms/step - loss: 0.6876 - accuracy: 0.5527\n",
            "Epoch 27/100\n",
            "119/119 [==============================] - 0s 2ms/step - loss: 0.6877 - accuracy: 0.5527\n",
            "Epoch 28/100\n",
            "119/119 [==============================] - 0s 2ms/step - loss: 0.6877 - accuracy: 0.5527\n",
            "Epoch 29/100\n",
            "119/119 [==============================] - 0s 2ms/step - loss: 0.6876 - accuracy: 0.5527\n",
            "Epoch 30/100\n",
            "119/119 [==============================] - 0s 2ms/step - loss: 0.6876 - accuracy: 0.5527\n",
            "Epoch 31/100\n",
            "119/119 [==============================] - 0s 2ms/step - loss: 0.6876 - accuracy: 0.5527\n",
            "Epoch 32/100\n",
            "119/119 [==============================] - 0s 2ms/step - loss: 0.6876 - accuracy: 0.5527\n",
            "Epoch 33/100\n",
            "119/119 [==============================] - 0s 2ms/step - loss: 0.6876 - accuracy: 0.5527\n",
            "Epoch 34/100\n",
            "119/119 [==============================] - 0s 2ms/step - loss: 0.6876 - accuracy: 0.5527\n",
            "Epoch 35/100\n",
            "119/119 [==============================] - 0s 2ms/step - loss: 0.6876 - accuracy: 0.5527\n",
            "Epoch 36/100\n",
            "119/119 [==============================] - 0s 2ms/step - loss: 0.6876 - accuracy: 0.5527\n",
            "Epoch 37/100\n",
            "119/119 [==============================] - 0s 2ms/step - loss: 0.6876 - accuracy: 0.5527\n",
            "Epoch 38/100\n",
            "119/119 [==============================] - 0s 3ms/step - loss: 0.6876 - accuracy: 0.5527\n",
            "Epoch 39/100\n",
            "119/119 [==============================] - 0s 4ms/step - loss: 0.6876 - accuracy: 0.5527\n",
            "Epoch 40/100\n",
            "119/119 [==============================] - 0s 4ms/step - loss: 0.6876 - accuracy: 0.5527\n",
            "Epoch 41/100\n",
            "119/119 [==============================] - 0s 3ms/step - loss: 0.6877 - accuracy: 0.5527\n",
            "Epoch 42/100\n",
            "119/119 [==============================] - 0s 2ms/step - loss: 0.6876 - accuracy: 0.5527\n",
            "Epoch 43/100\n",
            "119/119 [==============================] - 0s 4ms/step - loss: 0.6876 - accuracy: 0.5527\n",
            "Epoch 44/100\n",
            "119/119 [==============================] - 0s 3ms/step - loss: 0.6876 - accuracy: 0.5527\n",
            "Epoch 45/100\n",
            "119/119 [==============================] - 1s 6ms/step - loss: 0.6876 - accuracy: 0.5527\n",
            "Epoch 46/100\n",
            "119/119 [==============================] - 1s 5ms/step - loss: 0.6877 - accuracy: 0.5527\n",
            "Epoch 47/100\n",
            "119/119 [==============================] - 1s 8ms/step - loss: 0.6876 - accuracy: 0.5527\n",
            "Epoch 48/100\n",
            "119/119 [==============================] - 1s 7ms/step - loss: 0.6876 - accuracy: 0.5527\n",
            "Epoch 49/100\n",
            "119/119 [==============================] - 2s 14ms/step - loss: 0.6877 - accuracy: 0.5527\n",
            "Epoch 50/100\n",
            "119/119 [==============================] - 1s 6ms/step - loss: 0.6876 - accuracy: 0.5527\n",
            "Epoch 51/100\n",
            "119/119 [==============================] - 0s 3ms/step - loss: 0.6877 - accuracy: 0.5527\n",
            "Epoch 52/100\n",
            "119/119 [==============================] - 0s 4ms/step - loss: 0.6877 - accuracy: 0.5527\n",
            "Epoch 53/100\n",
            "119/119 [==============================] - 0s 2ms/step - loss: 0.6876 - accuracy: 0.5527\n",
            "Epoch 54/100\n",
            "119/119 [==============================] - 0s 4ms/step - loss: 0.6877 - accuracy: 0.5527\n",
            "Epoch 55/100\n",
            "119/119 [==============================] - 1s 4ms/step - loss: 0.6876 - accuracy: 0.5527\n",
            "Epoch 56/100\n",
            "119/119 [==============================] - 1s 4ms/step - loss: 0.6876 - accuracy: 0.5527\n",
            "Epoch 57/100\n",
            "119/119 [==============================] - 1s 5ms/step - loss: 0.6876 - accuracy: 0.5527\n",
            "Epoch 58/100\n",
            "119/119 [==============================] - 0s 2ms/step - loss: 0.6876 - accuracy: 0.5527\n",
            "Epoch 59/100\n",
            "119/119 [==============================] - 1s 5ms/step - loss: 0.6876 - accuracy: 0.5527\n",
            "Epoch 60/100\n",
            "119/119 [==============================] - 0s 3ms/step - loss: 0.6876 - accuracy: 0.5527\n",
            "Epoch 61/100\n",
            "119/119 [==============================] - 0s 4ms/step - loss: 0.6876 - accuracy: 0.5527\n",
            "Epoch 62/100\n",
            "119/119 [==============================] - 0s 3ms/step - loss: 0.6876 - accuracy: 0.5527\n",
            "Epoch 63/100\n",
            "119/119 [==============================] - 0s 3ms/step - loss: 0.6876 - accuracy: 0.5527\n",
            "Epoch 64/100\n",
            "119/119 [==============================] - 0s 3ms/step - loss: 0.6876 - accuracy: 0.5527\n",
            "Epoch 65/100\n",
            "119/119 [==============================] - 0s 3ms/step - loss: 0.6876 - accuracy: 0.5527\n",
            "Epoch 66/100\n",
            "119/119 [==============================] - 1s 5ms/step - loss: 0.6876 - accuracy: 0.5527\n",
            "Epoch 67/100\n",
            "119/119 [==============================] - 0s 3ms/step - loss: 0.6876 - accuracy: 0.5527\n",
            "Epoch 68/100\n",
            "119/119 [==============================] - 0s 4ms/step - loss: 0.6876 - accuracy: 0.5527\n",
            "Epoch 69/100\n",
            "119/119 [==============================] - 0s 4ms/step - loss: 0.6876 - accuracy: 0.5527\n",
            "Epoch 70/100\n",
            "119/119 [==============================] - 1s 4ms/step - loss: 0.6876 - accuracy: 0.5527\n",
            "Epoch 71/100\n",
            "119/119 [==============================] - 0s 2ms/step - loss: 0.6876 - accuracy: 0.5527\n",
            "Epoch 72/100\n",
            "119/119 [==============================] - 0s 2ms/step - loss: 0.6876 - accuracy: 0.5527\n",
            "Epoch 73/100\n",
            "119/119 [==============================] - 0s 3ms/step - loss: 0.6876 - accuracy: 0.5527\n",
            "Epoch 74/100\n",
            "119/119 [==============================] - 0s 3ms/step - loss: 0.6876 - accuracy: 0.5527\n",
            "Epoch 75/100\n",
            "119/119 [==============================] - 0s 3ms/step - loss: 0.6876 - accuracy: 0.5527\n",
            "Epoch 76/100\n",
            "119/119 [==============================] - 0s 3ms/step - loss: 0.6876 - accuracy: 0.5527\n",
            "Epoch 77/100\n",
            "119/119 [==============================] - 1s 5ms/step - loss: 0.6876 - accuracy: 0.5527\n",
            "Epoch 78/100\n",
            "119/119 [==============================] - 0s 4ms/step - loss: 0.6876 - accuracy: 0.5527\n",
            "Epoch 79/100\n",
            "119/119 [==============================] - 0s 4ms/step - loss: 0.6876 - accuracy: 0.5527\n",
            "Epoch 80/100\n",
            "119/119 [==============================] - 0s 3ms/step - loss: 0.6876 - accuracy: 0.5527\n",
            "Epoch 81/100\n",
            "119/119 [==============================] - 0s 3ms/step - loss: 0.6876 - accuracy: 0.5527\n",
            "Epoch 82/100\n",
            "119/119 [==============================] - 0s 3ms/step - loss: 0.6877 - accuracy: 0.5527\n",
            "Epoch 83/100\n",
            "119/119 [==============================] - 0s 3ms/step - loss: 0.6877 - accuracy: 0.5527\n",
            "Epoch 84/100\n",
            "119/119 [==============================] - 0s 3ms/step - loss: 0.6876 - accuracy: 0.5527\n",
            "Epoch 85/100\n",
            "119/119 [==============================] - 0s 2ms/step - loss: 0.6876 - accuracy: 0.5527\n",
            "Epoch 86/100\n",
            "119/119 [==============================] - 0s 3ms/step - loss: 0.6876 - accuracy: 0.5527\n",
            "Epoch 87/100\n",
            "119/119 [==============================] - 0s 3ms/step - loss: 0.6876 - accuracy: 0.5527\n",
            "Epoch 88/100\n",
            "119/119 [==============================] - 0s 2ms/step - loss: 0.6876 - accuracy: 0.5527\n",
            "Epoch 89/100\n",
            "119/119 [==============================] - 0s 3ms/step - loss: 0.6876 - accuracy: 0.5527\n",
            "Epoch 90/100\n",
            "119/119 [==============================] - 0s 3ms/step - loss: 0.6876 - accuracy: 0.5527\n",
            "Epoch 91/100\n",
            "119/119 [==============================] - 0s 3ms/step - loss: 0.6876 - accuracy: 0.5527\n",
            "Epoch 92/100\n",
            "119/119 [==============================] - 0s 3ms/step - loss: 0.6876 - accuracy: 0.5527\n",
            "Epoch 93/100\n",
            "119/119 [==============================] - 0s 4ms/step - loss: 0.6877 - accuracy: 0.5527\n",
            "Epoch 94/100\n",
            "119/119 [==============================] - 0s 3ms/step - loss: 0.6876 - accuracy: 0.5527\n",
            "Epoch 95/100\n",
            "119/119 [==============================] - 0s 3ms/step - loss: 0.6876 - accuracy: 0.5527\n",
            "Epoch 96/100\n",
            "119/119 [==============================] - 0s 3ms/step - loss: 0.6876 - accuracy: 0.5527\n",
            "Epoch 97/100\n",
            "119/119 [==============================] - 0s 3ms/step - loss: 0.6876 - accuracy: 0.5527\n",
            "Epoch 98/100\n",
            "119/119 [==============================] - 0s 3ms/step - loss: 0.6876 - accuracy: 0.5527\n",
            "Epoch 99/100\n",
            "119/119 [==============================] - 0s 3ms/step - loss: 0.6876 - accuracy: 0.5527\n",
            "Epoch 100/100\n",
            "119/119 [==============================] - 0s 3ms/step - loss: 0.6876 - accuracy: 0.5527\n"
          ]
        },
        {
          "output_type": "execute_result",
          "data": {
            "text/plain": [
              "<keras.callbacks.History at 0x7ff2196eb340>"
            ]
          },
          "metadata": {},
          "execution_count": 211
        }
      ]
    },
    {
      "cell_type": "code",
      "source": [
        "#TASK 5 [MODEL DEPLOYMENT]"
      ],
      "metadata": {
        "id": "Svdd3T_Qkp0a"
      },
      "execution_count": 123,
      "outputs": []
    },
    {
      "cell_type": "code",
      "source": [
        "#Save the best model\n",
        "## comparing all the trained models KNN has a better accuracy, so that we are using the KNN model for our use case.\n",
        "\n",
        "import pickle\n",
        "pickle.dump(knn,open(\"placement.pkl\",'wb'))"
      ],
      "metadata": {
        "id": "hjLy4eGUBWz6"
      },
      "execution_count": 212,
      "outputs": []
    },
    {
      "cell_type": "code",
      "source": [],
      "metadata": {
        "id": "adELyFaf41l0"
      },
      "execution_count": null,
      "outputs": []
    }
  ]
}